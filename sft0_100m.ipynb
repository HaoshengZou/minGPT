{
 "cells": [
  {
   "cell_type": "markdown",
   "metadata": {
    "pycharm": {
     "name": "#%% md\n"
    }
   },
   "source": [
    "A cute little demo showing the simplest usage of minGPT. Configured to run fine on Macbook Air in like a minute."
   ]
  },
  {
   "cell_type": "code",
   "execution_count": 1,
   "metadata": {
    "pycharm": {
     "name": "#%%\n"
    }
   },
   "outputs": [],
   "source": [
    "import torch\n",
    "from torch.utils.data import Dataset\n",
    "from torch.utils.data.dataloader import DataLoader\n",
    "from mingpt.utils import set_seed\n",
    "import numpy as np\n",
    "set_seed(3407)"
   ]
  },
  {
   "cell_type": "code",
   "execution_count": 2,
   "outputs": [],
   "source": [
    "# process dataset\n",
    "from mingpt.bpe import Encoder, get_encoder\n",
    "e = get_encoder()\n",
    "# x_gpt = [e.encode(d) for d in x.split()]\n",
    "# y_gpt = e.encode_equation(y)\n",
    "# calcu = eval(y)"
   ],
   "metadata": {
    "collapsed": false,
    "pycharm": {
     "name": "#%%\n"
    }
   }
  },
  {
   "cell_type": "code",
   "execution_count": 3,
   "outputs": [
    {
     "data": {
      "text/plain": "[('2 2 8 11', 'no answer'),\n ('2 2 8 12', '12+2+2+8'),\n ('2 2 8 13', 'no answer'),\n ('2 2 9 9', 'no answer'),\n ('2 2 9 10', '(9-2)*2+10'),\n ('2 2 9 11', '11+2+2+9'),\n ('2 2 9 12', '(2+2)*9-12'),\n ('2 2 9 13', 'no answer'),\n ('2 2 10 10', '10+10+2+2'),\n ('2 2 10 11', '(11*2-10)*2')]"
     },
     "execution_count": 3,
     "metadata": {},
     "output_type": "execute_result"
    }
   ],
   "source": [
    "raw_data_path = '24/answer.txt'\n",
    "with open(raw_data_path, 'r') as f:\n",
    "    raw_data = f.readlines()\n",
    "\n",
    "raw_set = list()\n",
    "for item in raw_data:\n",
    "    x, y = item.strip().split(':')\n",
    "    x, y = x.strip(), y.strip()\n",
    "    if 'nope' in y:\n",
    "        y = 'no answer'\n",
    "    else:\n",
    "        y = y.replace('×', '*')\n",
    "    raw_set.append((x, y))\n",
    "\n",
    "raw_set[515:525]"
   ],
   "metadata": {
    "collapsed": false,
    "pycharm": {
     "name": "#%%\n"
    }
   }
  },
  {
   "cell_type": "code",
   "execution_count": 4,
   "outputs": [],
   "source": [
    "class FixedLenDataset(Dataset):\n",
    "    \"\"\"\n",
    "    Dataset for the Sort problem. E.g. for problem length 6:\n",
    "    Input: 0 0 2 1 0 1 -> Output: 0 0 0 1 1 2\n",
    "    Which will feed into the transformer concatenated as:\n",
    "    input:  0 0 2 1 0 1 0 0 0 1 1\n",
    "    output: I I I I I 0 0 0 1 1 2\n",
    "    where I is \"ignore\", as the transformer is reading the input sequence\n",
    "    \"\"\"\n",
    "\n",
    "    def __init__(self, raw_set):\n",
    "        self.raw_set = raw_set\n",
    "        self.tokenizer = get_encoder()\n",
    "        self.max_len = 14  # 统计最大14\n",
    "\n",
    "    def __len__(self):\n",
    "        return len(self.raw_set)\n",
    "\n",
    "    def get_vocab_size(self):\n",
    "        return 50257\n",
    "\n",
    "    def get_block_size(self):\n",
    "        # fixed length version:\n",
    "        # return self.length * 2 - 1\n",
    "        # return 4 + 4 + 3 + 2 - 1  # 4数字+4数字+3运算符+2括号-1 = 12\n",
    "\n",
    "        # padding version:\n",
    "        return self.max_len\n",
    "\n",
    "    def __getitem__(self, idx):\n",
    "        inp, sol = self.raw_set[idx]\n",
    "        inpp = [self.tokenizer.encode(d)[0] for d in inp.split()]\n",
    "        soll = self.tokenizer.encode(sol) if 'no answer' in sol else self.tokenizer.encode_equation(sol)\n",
    "        # padding here\n",
    "        padding_len = self.max_len - len(inpp) - len(soll) + 1\n",
    "        soll += [50256] * padding_len\n",
    "\n",
    "        # print(inpp, soll)\n",
    "        inpp, soll = torch.tensor(inpp, dtype=torch.long), torch.tensor(soll, dtype=torch.long)\n",
    "\n",
    "        # concatenate the problem specification and the solution\n",
    "        cat = torch.cat((inpp, soll), dim=0)\n",
    "\n",
    "        # the inputs to the transformer will be the offset sequence\n",
    "        x = cat[:-1].clone()\n",
    "        y = cat[1:].clone()\n",
    "        # we only want to predict at output locations, mask out the loss at the input locations\n",
    "        y[:3] = -1  # 固定4数字\n",
    "        y[-padding_len + 1:] = -1\n",
    "        return x, y"
   ],
   "metadata": {
    "collapsed": false,
    "pycharm": {
     "name": "#%%\n"
    }
   }
  },
  {
   "cell_type": "code",
   "execution_count": 5,
   "outputs": [],
   "source": [
    "ixes = list(range(len(raw_set)))\n",
    "np.random.shuffle(ixes)\n",
    "train_ixes = ixes[:-200]\n",
    "test_ixes = ixes[-200:]\n",
    "train_set = [raw_set[i] for i in train_ixes]\n",
    "test_set = [raw_set[i] for i in test_ixes]\n",
    "train_dataset = FixedLenDataset(train_set)\n",
    "test_dataset = FixedLenDataset(test_set)"
   ],
   "metadata": {
    "collapsed": false,
    "pycharm": {
     "name": "#%%\n"
    }
   }
  },
  {
   "cell_type": "code",
   "execution_count": 6,
   "outputs": [
    {
     "name": "stdout",
     "output_type": "stream",
     "text": [
      "14\n",
      "17 -1\n",
      "21 -1\n",
      "21 -1\n",
      "940 940\n",
      "940 10\n",
      "10 17\n",
      "17 10\n",
      "10 21\n",
      "21 10\n",
      "10 21\n",
      "21 50256\n",
      "50256 -1\n",
      "50256 -1\n",
      "50256 -1\n"
     ]
    }
   ],
   "source": [
    "x, y = train_dataset[516]\n",
    "print(len(x))\n",
    "for a, b in zip(x,y):\n",
    "    print(int(a),int(b))"
   ],
   "metadata": {
    "collapsed": false,
    "pycharm": {
     "name": "#%%\n"
    }
   }
  },
  {
   "cell_type": "code",
   "execution_count": 7,
   "outputs": [
    {
     "name": "stdout",
     "output_type": "stream",
     "text": [
      "14\n"
     ]
    }
   ],
   "source": [
    "max_len = 0\n",
    "for x, y in train_dataset:\n",
    "    max_len = max(max_len, len(x))\n",
    "print(max_len)"
   ],
   "metadata": {
    "collapsed": false,
    "pycharm": {
     "name": "#%%\n"
    }
   }
  },
  {
   "cell_type": "code",
   "execution_count": 8,
   "metadata": {
    "pycharm": {
     "name": "#%%\n"
    }
   },
   "outputs": [
    {
     "name": "stdout",
     "output_type": "stream",
     "text": [
      "number of parameters: 124.44M\n"
     ]
    }
   ],
   "source": [
    "# create a GPT instance\n",
    "from mingpt.model import GPT\n",
    "\n",
    "model_config = GPT.get_default_config()\n",
    "model_config.model_type = 'gpt2'\n",
    "# model_config.vocab_size = train_dataset.get_vocab_size()\n",
    "# model_config.block_size = train_dataset.get_block_size()\n",
    "model = GPT.from_pretrained(model_config.model_type)"
   ]
  },
  {
   "cell_type": "code",
   "execution_count": 9,
   "metadata": {
    "pycharm": {
     "name": "#%%\n"
    }
   },
   "outputs": [
    {
     "name": "stdout",
     "output_type": "stream",
     "text": [
      "running on device cpu\n"
     ]
    }
   ],
   "source": [
    "# create a Trainer object\n",
    "from mingpt.trainer import Trainer\n",
    "\n",
    "train_config = Trainer.get_default_config()\n",
    "train_config.learning_rate = 5e-5 # the model we're using is so small that we can go a bit faster\n",
    "train_config.max_iters = 2000\n",
    "train_config.batch_size = 8\n",
    "train_config.num_workers = 0\n",
    "trainer = Trainer(train_config, model, train_dataset)"
   ]
  },
  {
   "cell_type": "code",
   "execution_count": 10,
   "outputs": [],
   "source": [
    "def eval_split(dataset):\n",
    "    model.eval()\n",
    "    losses = list()\n",
    "    loader = DataLoader(dataset, batch_size=10, num_workers=0, drop_last=False)\n",
    "    for batch in loader:\n",
    "        batch = [t.to(trainer.device) for t in batch]\n",
    "        x, y = batch\n",
    "        # forward the model\n",
    "        with torch.no_grad():\n",
    "            logits, loss = model(x, y)\n",
    "        losses.append(loss)\n",
    "\n",
    "    model.train()\n",
    "    return np.mean(losses)"
   ],
   "metadata": {
    "collapsed": false,
    "pycharm": {
     "name": "#%%\n"
    }
   }
  },
  {
   "cell_type": "code",
   "execution_count": null,
   "metadata": {
    "pycharm": {
     "name": "#%%\n",
     "is_executing": true
    }
   },
   "outputs": [
    {
     "name": "stdout",
     "output_type": "stream",
     "text": [
      "iter_dt 0.00ms; iter 0: train loss 4.96339\n",
      "    test loss 4.41681\n",
      "iter_dt 630.67ms; iter 100: train loss 0.96286\n",
      "    test loss 0.82988\n",
      "iter_dt 617.86ms; iter 200: train loss 0.76551\n",
      "    test loss 0.75350\n",
      "iter_dt 568.27ms; iter 300: train loss 0.45483\n",
      "    test loss 0.66477\n",
      "iter_dt 619.60ms; iter 400: train loss 0.62636\n",
      "    test loss 0.64712\n",
      "iter_dt 640.05ms; iter 500: train loss 0.62744\n",
      "    test loss 0.56431\n",
      "iter_dt 658.75ms; iter 600: train loss 0.51872\n",
      "    test loss 0.58311\n",
      "iter_dt 679.89ms; iter 700: train loss 0.54847\n",
      "    test loss 0.57948\n",
      "iter_dt 502.54ms; iter 800: train loss 0.54337\n",
      "    test loss 0.55968\n",
      "iter_dt 494.92ms; iter 900: train loss 0.56315\n",
      "    test loss 0.53850\n",
      "iter_dt 575.26ms; iter 1000: train loss 0.71471\n",
      "    test loss 0.54550\n",
      "iter_dt 561.92ms; iter 1100: train loss 0.42306\n",
      "    test loss 0.53585\n"
     ]
    }
   ],
   "source": [
    "def batch_end_callback(trainer):\n",
    "    if trainer.iter_num % 100== 0:\n",
    "        print(f\"iter_dt {trainer.iter_dt * 1000:.2f}ms; iter {trainer.iter_num}: train loss {trainer.loss.item():.5f}\")\n",
    "        test_loss = eval_split(test_dataset)\n",
    "        print(f\"    test loss {test_loss:.5f}\")\n",
    "trainer.set_callback('on_batch_end', batch_end_callback)\n",
    "\n",
    "trainer.run()"
   ]
  },
  {
   "cell_type": "code",
   "execution_count": null,
   "outputs": [],
   "source": [
    "##################### until now #####################"
   ],
   "metadata": {
    "collapsed": false,
    "pycharm": {
     "name": "#%%\n",
     "is_executing": true
    }
   }
  },
  {
   "cell_type": "code",
   "execution_count": null,
   "metadata": {
    "pycharm": {
     "name": "#%%\n",
     "is_executing": true
    }
   },
   "outputs": [],
   "source": [
    "exit()\n",
    "# now let's perform some evaluation\n",
    "model.eval()"
   ]
  },
  {
   "cell_type": "code",
   "execution_count": null,
   "metadata": {
    "pycharm": {
     "name": "#%%\n",
     "is_executing": true
    }
   },
   "outputs": [],
   "source": [
    "def eval_split(trainer, split, max_batches):\n",
    "    dataset = {'train':train_dataset, 'test':test_dataset}[split]\n",
    "    results = []\n",
    "    mistakes_printed_already = 0\n",
    "    loader = DataLoader(dataset, batch_size=100, num_workers=0, drop_last=False)\n",
    "    for b, (x, y) in enumerate(loader):\n",
    "        x = x.to(trainer.device)\n",
    "        y = y.to(trainer.device)\n",
    "        # isolate the input pattern alone\n",
    "        inp = x[:, :4]\n",
    "        sol = y[:, 4:]\n",
    "        # let the model sample the rest of the sequence\n",
    "        cat = model.generate(inp, 14 - 4, do_sample=False) # using greedy argmax, not sampling\n",
    "        sol_candidate = cat[:, n:] # isolate the filled in sequence\n",
    "        # compare the predicted sequence to the true sequence\n",
    "        correct = (sol == sol_candidate).all(1).cpu() # Software 1.0 vs. Software 2.0 fight RIGHT on this line haha\n",
    "        for i in range(x.size(0)):\n",
    "            results.append(int(correct[i]))\n",
    "            if not correct[i] and mistakes_printed_already < 3: # only print up to 5 mistakes to get a sense\n",
    "                mistakes_printed_already += 1\n",
    "                print(\"GPT claims that %s sorted is %s but gt is %s\" % (inp[i].tolist(), sol_candidate[i].tolist(), sol[i].tolist()))\n",
    "        if max_batches is not None and b+1 >= max_batches:\n",
    "            break\n",
    "    rt = torch.tensor(results, dtype=torch.float)\n",
    "    print(\"%s final score: %d/%d = %.2f%% correct\" % (split, rt.sum(), len(results), 100*rt.mean()))\n",
    "    return rt.sum()\n",
    "\n",
    "# run a lot of examples from both train and test through the model and verify the output correctness\n",
    "with torch.no_grad():\n",
    "    train_score = eval_split(trainer, 'train', max_batches=50)\n",
    "    test_score  = eval_split(trainer, 'test',  max_batches=50)"
   ]
  },
  {
   "cell_type": "code",
   "execution_count": null,
   "metadata": {
    "pycharm": {
     "name": "#%%\n",
     "is_executing": true
    }
   },
   "outputs": [],
   "source": [
    "# let's run a random given sequence through the model as well\n",
    "n = train_dataset.length # naugy direct access shrug\n",
    "inp = torch.tensor([[0, 0, 2, 1, 0, 1]], dtype=torch.long).to(trainer.device)\n",
    "assert inp[0].nelement() == n\n",
    "with torch.no_grad():\n",
    "    cat = model.generate(inp, n, do_sample=False)\n",
    "sol = torch.sort(inp[0])[0]\n",
    "sol_candidate = cat[:, n:]\n",
    "print('input sequence  :', inp.tolist())\n",
    "print('predicted sorted:', sol_candidate.tolist())\n",
    "print('gt sort         :', sol.tolist())\n",
    "print('matches         :', bool((sol == sol_candidate).all()))"
   ]
  }
 ],
 "metadata": {
  "kernelspec": {
   "display_name": "Python 3.10.4 64-bit",
   "language": "python",
   "name": "python3"
  },
  "language_info": {
   "codemirror_mode": {
    "name": "ipython",
    "version": 3
   },
   "file_extension": ".py",
   "mimetype": "text/x-python",
   "name": "python",
   "nbconvert_exporter": "python",
   "pygments_lexer": "ipython3",
   "version": "3.10.4"
  },
  "orig_nbformat": 4,
  "vscode": {
   "interpreter": {
    "hash": "3ad933181bd8a04b432d3370b9dc3b0662ad032c4dfaa4e4f1596c548f763858"
   }
  }
 },
 "nbformat": 4,
 "nbformat_minor": 2
}