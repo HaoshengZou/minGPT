{
 "cells": [
  {
   "cell_type": "markdown",
   "metadata": {
    "pycharm": {
     "name": "#%% md\n"
    }
   },
   "source": [
    "A cute little demo showing the simplest usage of minGPT. Configured to run fine on Macbook Air in like a minute."
   ]
  },
  {
   "cell_type": "code",
   "execution_count": 1,
   "metadata": {
    "pycharm": {
     "name": "#%%\n"
    }
   },
   "outputs": [],
   "source": [
    "import torch\n",
    "from torch.utils.data import Dataset\n",
    "from torch.utils.data.dataloader import DataLoader\n",
    "from mingpt.utils import set_seed\n",
    "import numpy as np\n",
    "set_seed(3407)"
   ]
  },
  {
   "cell_type": "code",
   "execution_count": 2,
   "outputs": [],
   "source": [
    "# process dataset\n",
    "from mingpt.bpe import Encoder, get_encoder\n",
    "e = get_encoder()\n",
    "# x_gpt = [e.encode(d) for d in x.split()]\n",
    "# y_gpt = e.encode_equation(y)\n",
    "# calcu = eval(y)"
   ],
   "metadata": {
    "collapsed": false,
    "pycharm": {
     "name": "#%%\n"
    }
   }
  },
  {
   "cell_type": "code",
   "execution_count": 3,
   "outputs": [
    {
     "data": {
      "text/plain": "[('2 2 8 11', 'no answer'),\n ('2 2 8 12', '12+2+2+8'),\n ('2 2 8 13', 'no answer'),\n ('2 2 9 9', 'no answer'),\n ('2 2 9 10', '(9-2)*2+10'),\n ('2 2 9 11', '11+2+2+9'),\n ('2 2 9 12', '(2+2)*9-12'),\n ('2 2 9 13', 'no answer'),\n ('2 2 10 10', '10+10+2+2'),\n ('2 2 10 11', '(11*2-10)*2')]"
     },
     "execution_count": 3,
     "metadata": {},
     "output_type": "execute_result"
    }
   ],
   "source": [
    "raw_data_path = '24/answer.txt'\n",
    "with open(raw_data_path, 'r') as f:\n",
    "    raw_data = f.readlines()\n",
    "\n",
    "raw_set = list()\n",
    "for item in raw_data:\n",
    "    x, y = item.strip().split(':')\n",
    "    x, y = x.strip(), y.strip()\n",
    "    if 'nope' in y:\n",
    "        y = 'no answer'\n",
    "    else:\n",
    "        y = y.replace('×', '*')\n",
    "    raw_set.append((x, y))\n",
    "\n",
    "raw_set[515:525]"
   ],
   "metadata": {
    "collapsed": false,
    "pycharm": {
     "name": "#%%\n"
    }
   }
  },
  {
   "cell_type": "code",
   "execution_count": 4,
   "outputs": [],
   "source": [
    "class FixedLenDataset(Dataset):\n",
    "    \"\"\"\n",
    "    Dataset for the Sort problem. E.g. for problem length 6:\n",
    "    Input: 0 0 2 1 0 1 -> Output: 0 0 0 1 1 2\n",
    "    Which will feed into the transformer concatenated as:\n",
    "    input:  0 0 2 1 0 1 0 0 0 1 1\n",
    "    output: I I I I I 0 0 0 1 1 2\n",
    "    where I is \"ignore\", as the transformer is reading the input sequence\n",
    "    \"\"\"\n",
    "\n",
    "    def __init__(self, raw_set):\n",
    "        self.raw_set = raw_set\n",
    "        self.tokenizer = get_encoder()\n",
    "        self.max_len = 14  # 统计最大14\n",
    "\n",
    "    def __len__(self):\n",
    "        return len(self.raw_set)\n",
    "\n",
    "    def get_vocab_size(self):\n",
    "        return 50257\n",
    "\n",
    "    def get_block_size(self):\n",
    "        # fixed length version:\n",
    "        # return self.length * 2 - 1\n",
    "        # return 4 + 4 + 3 + 2 - 1  # 4数字+4数字+3运算符+2括号-1 = 12\n",
    "\n",
    "        # padding version:\n",
    "        return self.max_len\n",
    "\n",
    "    def __getitem__(self, idx):\n",
    "        inp, sol = self.raw_set[idx]\n",
    "        inpp = [self.tokenizer.encode(d)[0] for d in inp.split()]\n",
    "        soll = self.tokenizer.encode(sol) if 'no answer' in sol else self.tokenizer.encode_equation(sol)\n",
    "        # padding here\n",
    "        padding_len = self.max_len - len(inpp) - len(soll) + 1\n",
    "        soll += [50256] * padding_len\n",
    "\n",
    "        # print(inpp, soll)\n",
    "        inpp, soll = torch.tensor(inpp, dtype=torch.long), torch.tensor(soll, dtype=torch.long)\n",
    "\n",
    "        # concatenate the problem specification and the solution\n",
    "        cat = torch.cat((inpp, soll), dim=0)\n",
    "\n",
    "        # the inputs to the transformer will be the offset sequence\n",
    "        x = cat[:-1].clone()\n",
    "        y = cat[1:].clone()\n",
    "        # we only want to predict at output locations, mask out the loss at the input locations\n",
    "        y[:3] = -1  # 固定4数字\n",
    "        y[-padding_len + 1:] = -1\n",
    "        return x, y"
   ],
   "metadata": {
    "collapsed": false,
    "pycharm": {
     "name": "#%%\n"
    }
   }
  },
  {
   "cell_type": "code",
   "execution_count": 5,
   "outputs": [],
   "source": [
    "ixes = list(range(len(raw_set)))\n",
    "np.random.shuffle(ixes)\n",
    "train_ixes = ixes[:-200]\n",
    "test_ixes = ixes[-200:]\n",
    "train_set = [raw_set[i] for i in train_ixes]\n",
    "test_set = [raw_set[i] for i in test_ixes]\n",
    "train_dataset = FixedLenDataset(train_set)\n",
    "test_dataset = FixedLenDataset(test_set)"
   ],
   "metadata": {
    "collapsed": false,
    "pycharm": {
     "name": "#%%\n"
    }
   }
  },
  {
   "cell_type": "code",
   "execution_count": 6,
   "outputs": [
    {
     "name": "stdout",
     "output_type": "stream",
     "text": [
      "14\n",
      "17 -1\n",
      "21 -1\n",
      "21 -1\n",
      "940 940\n",
      "940 10\n",
      "10 17\n",
      "17 10\n",
      "10 21\n",
      "21 10\n",
      "10 21\n",
      "21 50256\n",
      "50256 -1\n",
      "50256 -1\n",
      "50256 -1\n"
     ]
    }
   ],
   "source": [
    "x, y = train_dataset[516]\n",
    "print(len(x))\n",
    "for a, b in zip(x,y):\n",
    "    print(int(a),int(b))"
   ],
   "metadata": {
    "collapsed": false,
    "pycharm": {
     "name": "#%%\n"
    }
   }
  },
  {
   "cell_type": "code",
   "execution_count": 7,
   "outputs": [
    {
     "name": "stdout",
     "output_type": "stream",
     "text": [
      "14\n"
     ]
    }
   ],
   "source": [
    "max_len = 0\n",
    "for x, y in train_dataset:\n",
    "    max_len = max(max_len, len(x))\n",
    "print(max_len)"
   ],
   "metadata": {
    "collapsed": false,
    "pycharm": {
     "name": "#%%\n"
    }
   }
  },
  {
   "cell_type": "code",
   "execution_count": 8,
   "metadata": {
    "pycharm": {
     "name": "#%%\n"
    }
   },
   "outputs": [
    {
     "name": "stdout",
     "output_type": "stream",
     "text": [
      "number of parameters: 2.50M\n"
     ]
    }
   ],
   "source": [
    "# create a GPT instance\n",
    "from mingpt.model import GPT\n",
    "\n",
    "model_config = GPT.get_default_config()\n",
    "model_config.model_type = 'gpt-nano'\n",
    "model_config.vocab_size = train_dataset.get_vocab_size()\n",
    "model_config.block_size = train_dataset.get_block_size()\n",
    "model = GPT(model_config)"
   ]
  },
  {
   "cell_type": "code",
   "execution_count": 9,
   "metadata": {
    "pycharm": {
     "name": "#%%\n"
    }
   },
   "outputs": [
    {
     "name": "stdout",
     "output_type": "stream",
     "text": [
      "running on device cpu\n"
     ]
    }
   ],
   "source": [
    "# create a Trainer object\n",
    "from mingpt.trainer import Trainer\n",
    "\n",
    "train_config = Trainer.get_default_config()\n",
    "train_config.learning_rate = 5e-4 # the model we're using is so small that we can go a bit faster\n",
    "train_config.max_iters = 10000\n",
    "train_config.batch_size = 16\n",
    "train_config.num_workers = 0\n",
    "trainer = Trainer(train_config, model, train_dataset)"
   ]
  },
  {
   "cell_type": "code",
   "execution_count": 10,
   "outputs": [],
   "source": [
    "def eval_split(dataset):\n",
    "    model.eval()\n",
    "    losses = list()\n",
    "    loader = DataLoader(dataset, batch_size=10, num_workers=0, drop_last=False)\n",
    "    for batch in loader:\n",
    "        batch = [t.to(trainer.device) for t in batch]\n",
    "        x, y = batch\n",
    "        # forward the model\n",
    "        with torch.no_grad():\n",
    "            logits, loss = model(x, y)\n",
    "        losses.append(loss)\n",
    "\n",
    "    model.train()\n",
    "    return np.mean(losses)"
   ],
   "metadata": {
    "collapsed": false,
    "pycharm": {
     "name": "#%%\n"
    }
   }
  },
  {
   "cell_type": "code",
   "execution_count": 11,
   "metadata": {
    "pycharm": {
     "name": "#%%\n"
    }
   },
   "outputs": [
    {
     "name": "stdout",
     "output_type": "stream",
     "text": [
      "iter_dt 0.00ms; iter 0: train loss 10.81765\n",
      "    test loss 10.70178\n",
      "iter_dt 66.85ms; iter 200: train loss 2.67656\n",
      "    test loss 2.61521\n",
      "iter_dt 66.35ms; iter 400: train loss 1.39680\n",
      "    test loss 1.25360\n",
      "iter_dt 68.28ms; iter 600: train loss 0.97176\n",
      "    test loss 0.94546\n",
      "iter_dt 68.25ms; iter 800: train loss 0.81549\n",
      "    test loss 0.84754\n",
      "iter_dt 67.16ms; iter 1000: train loss 0.88386\n",
      "    test loss 0.78244\n",
      "iter_dt 71.53ms; iter 1200: train loss 0.73103\n",
      "    test loss 0.75506\n",
      "iter_dt 67.51ms; iter 1400: train loss 0.73196\n",
      "    test loss 0.72422\n",
      "iter_dt 71.04ms; iter 1600: train loss 0.64154\n",
      "    test loss 0.70072\n",
      "iter_dt 67.91ms; iter 1800: train loss 0.90560\n",
      "    test loss 0.70110\n",
      "iter_dt 68.76ms; iter 2000: train loss 0.62582\n",
      "    test loss 0.68716\n",
      "iter_dt 67.23ms; iter 2200: train loss 0.80422\n",
      "    test loss 0.65811\n",
      "iter_dt 71.38ms; iter 2400: train loss 0.76324\n",
      "    test loss 0.64827\n",
      "iter_dt 67.41ms; iter 2600: train loss 0.61703\n",
      "    test loss 0.65041\n",
      "iter_dt 67.83ms; iter 2800: train loss 0.69309\n",
      "    test loss 0.63901\n",
      "iter_dt 72.41ms; iter 3000: train loss 0.70172\n",
      "    test loss 0.64215\n",
      "iter_dt 68.30ms; iter 3200: train loss 0.69022\n",
      "    test loss 0.62211\n",
      "iter_dt 67.98ms; iter 3400: train loss 0.64425\n",
      "    test loss 0.64505\n",
      "iter_dt 67.91ms; iter 3600: train loss 0.76253\n",
      "    test loss 0.64016\n",
      "iter_dt 77.33ms; iter 3800: train loss 0.69398\n",
      "    test loss 0.60659\n",
      "iter_dt 67.84ms; iter 4000: train loss 0.65697\n",
      "    test loss 0.59863\n",
      "iter_dt 75.07ms; iter 4200: train loss 0.73412\n",
      "    test loss 0.60645\n",
      "iter_dt 79.09ms; iter 4400: train loss 0.53172\n",
      "    test loss 0.59148\n",
      "iter_dt 87.27ms; iter 4600: train loss 0.60710\n",
      "    test loss 0.60545\n",
      "iter_dt 74.05ms; iter 4800: train loss 0.76030\n",
      "    test loss 0.59371\n",
      "iter_dt 78.68ms; iter 5000: train loss 0.56579\n",
      "    test loss 0.58210\n",
      "iter_dt 83.77ms; iter 5200: train loss 0.54171\n",
      "    test loss 0.58203\n",
      "iter_dt 76.63ms; iter 5400: train loss 0.57231\n",
      "    test loss 0.58889\n",
      "iter_dt 80.46ms; iter 5600: train loss 0.76230\n",
      "    test loss 0.59454\n",
      "iter_dt 104.26ms; iter 5800: train loss 0.52633\n",
      "    test loss 0.58048\n",
      "iter_dt 74.85ms; iter 6000: train loss 0.58574\n",
      "    test loss 0.58716\n",
      "iter_dt 73.27ms; iter 6200: train loss 0.44733\n",
      "    test loss 0.57723\n",
      "iter_dt 91.94ms; iter 6400: train loss 0.67211\n",
      "    test loss 0.57384\n",
      "iter_dt 82.28ms; iter 6600: train loss 0.57920\n",
      "    test loss 0.56424\n",
      "iter_dt 99.31ms; iter 6800: train loss 0.55875\n",
      "    test loss 0.57593\n",
      "iter_dt 78.92ms; iter 7000: train loss 0.52879\n",
      "    test loss 0.57246\n",
      "iter_dt 97.77ms; iter 7200: train loss 0.77439\n",
      "    test loss 0.56395\n",
      "iter_dt 96.40ms; iter 7400: train loss 0.47063\n",
      "    test loss 0.57198\n",
      "iter_dt 82.44ms; iter 7600: train loss 0.64073\n",
      "    test loss 0.56142\n",
      "iter_dt 83.56ms; iter 7800: train loss 0.54387\n",
      "    test loss 0.56067\n",
      "iter_dt 78.75ms; iter 8000: train loss 0.44592\n",
      "    test loss 0.54594\n",
      "iter_dt 85.78ms; iter 8200: train loss 0.53653\n",
      "    test loss 0.55741\n",
      "iter_dt 100.91ms; iter 8400: train loss 0.45768\n",
      "    test loss 0.56581\n",
      "iter_dt 78.39ms; iter 8600: train loss 0.58099\n",
      "    test loss 0.56338\n",
      "iter_dt 77.35ms; iter 8800: train loss 0.46656\n",
      "    test loss 0.57926\n",
      "iter_dt 83.61ms; iter 9000: train loss 0.50262\n",
      "    test loss 0.58137\n",
      "iter_dt 84.84ms; iter 9200: train loss 0.46733\n",
      "    test loss 0.56588\n",
      "iter_dt 75.76ms; iter 9400: train loss 0.44515\n",
      "    test loss 0.57399\n",
      "iter_dt 77.78ms; iter 9600: train loss 0.39290\n",
      "    test loss 0.55372\n",
      "iter_dt 72.56ms; iter 9800: train loss 0.48645\n",
      "    test loss 0.57483\n"
     ]
    }
   ],
   "source": [
    "def batch_end_callback(trainer):\n",
    "    if trainer.iter_num % 200== 0:\n",
    "        print(f\"iter_dt {trainer.iter_dt * 1000:.2f}ms; iter {trainer.iter_num}: train loss {trainer.loss.item():.5f}\")\n",
    "        test_loss = eval_split(test_dataset)\n",
    "        print(f\"    test loss {test_loss:.5f}\")\n",
    "trainer.set_callback('on_batch_end', batch_end_callback)\n",
    "\n",
    "trainer.run()"
   ]
  },
  {
   "cell_type": "code",
   "execution_count": 12,
   "outputs": [],
   "source": [
    "##################### until now #####################"
   ],
   "metadata": {
    "collapsed": false,
    "pycharm": {
     "name": "#%%\n"
    }
   }
  },
  {
   "cell_type": "code",
   "execution_count": 13,
   "metadata": {
    "pycharm": {
     "name": "#%%\n"
    }
   },
   "outputs": [
    {
     "data": {
      "text/plain": "GPT(\n  (transformer): ModuleDict(\n    (wte): Embedding(50257, 48)\n    (wpe): Embedding(14, 48)\n    (drop): Dropout(p=0.1, inplace=False)\n    (h): ModuleList(\n      (0): Block(\n        (ln_1): LayerNorm((48,), eps=1e-05, elementwise_affine=True)\n        (attn): CausalSelfAttention(\n          (c_attn): Linear(in_features=48, out_features=144, bias=True)\n          (c_proj): Linear(in_features=48, out_features=48, bias=True)\n          (attn_dropout): Dropout(p=0.1, inplace=False)\n          (resid_dropout): Dropout(p=0.1, inplace=False)\n        )\n        (ln_2): LayerNorm((48,), eps=1e-05, elementwise_affine=True)\n        (mlp): ModuleDict(\n          (c_fc): Linear(in_features=48, out_features=192, bias=True)\n          (c_proj): Linear(in_features=192, out_features=48, bias=True)\n          (act): NewGELU()\n          (dropout): Dropout(p=0.1, inplace=False)\n        )\n      )\n      (1): Block(\n        (ln_1): LayerNorm((48,), eps=1e-05, elementwise_affine=True)\n        (attn): CausalSelfAttention(\n          (c_attn): Linear(in_features=48, out_features=144, bias=True)\n          (c_proj): Linear(in_features=48, out_features=48, bias=True)\n          (attn_dropout): Dropout(p=0.1, inplace=False)\n          (resid_dropout): Dropout(p=0.1, inplace=False)\n        )\n        (ln_2): LayerNorm((48,), eps=1e-05, elementwise_affine=True)\n        (mlp): ModuleDict(\n          (c_fc): Linear(in_features=48, out_features=192, bias=True)\n          (c_proj): Linear(in_features=192, out_features=48, bias=True)\n          (act): NewGELU()\n          (dropout): Dropout(p=0.1, inplace=False)\n        )\n      )\n      (2): Block(\n        (ln_1): LayerNorm((48,), eps=1e-05, elementwise_affine=True)\n        (attn): CausalSelfAttention(\n          (c_attn): Linear(in_features=48, out_features=144, bias=True)\n          (c_proj): Linear(in_features=48, out_features=48, bias=True)\n          (attn_dropout): Dropout(p=0.1, inplace=False)\n          (resid_dropout): Dropout(p=0.1, inplace=False)\n        )\n        (ln_2): LayerNorm((48,), eps=1e-05, elementwise_affine=True)\n        (mlp): ModuleDict(\n          (c_fc): Linear(in_features=48, out_features=192, bias=True)\n          (c_proj): Linear(in_features=192, out_features=48, bias=True)\n          (act): NewGELU()\n          (dropout): Dropout(p=0.1, inplace=False)\n        )\n      )\n    )\n    (ln_f): LayerNorm((48,), eps=1e-05, elementwise_affine=True)\n  )\n  (lm_head): Linear(in_features=48, out_features=50257, bias=False)\n)"
     },
     "execution_count": 13,
     "metadata": {},
     "output_type": "execute_result"
    }
   ],
   "source": [
    "exit()\n",
    "# now let's perform some evaluation\n",
    "model.eval()"
   ]
  },
  {
   "cell_type": "code",
   "execution_count": 14,
   "metadata": {
    "pycharm": {
     "name": "#%%\n"
    }
   },
   "outputs": [
    {
     "ename": "NameError",
     "evalue": "name 'n' is not defined",
     "output_type": "error",
     "traceback": [
      "\u001B[0;31m---------------------------------------------------------------------------\u001B[0m",
      "\u001B[0;31mNameError\u001B[0m                                 Traceback (most recent call last)",
      "Input \u001B[0;32mIn [14]\u001B[0m, in \u001B[0;36m<cell line: 29>\u001B[0;34m()\u001B[0m\n\u001B[1;32m     28\u001B[0m \u001B[38;5;66;03m# run a lot of examples from both train and test through the model and verify the output correctness\u001B[39;00m\n\u001B[1;32m     29\u001B[0m \u001B[38;5;28;01mwith\u001B[39;00m torch\u001B[38;5;241m.\u001B[39mno_grad():\n\u001B[0;32m---> 30\u001B[0m     train_score \u001B[38;5;241m=\u001B[39m \u001B[43meval_split\u001B[49m\u001B[43m(\u001B[49m\u001B[43mtrainer\u001B[49m\u001B[43m,\u001B[49m\u001B[43m \u001B[49m\u001B[38;5;124;43m'\u001B[39;49m\u001B[38;5;124;43mtrain\u001B[39;49m\u001B[38;5;124;43m'\u001B[39;49m\u001B[43m,\u001B[49m\u001B[43m \u001B[49m\u001B[43mmax_batches\u001B[49m\u001B[38;5;241;43m=\u001B[39;49m\u001B[38;5;241;43m50\u001B[39;49m\u001B[43m)\u001B[49m\n\u001B[1;32m     31\u001B[0m     test_score  \u001B[38;5;241m=\u001B[39m eval_split(trainer, \u001B[38;5;124m'\u001B[39m\u001B[38;5;124mtest\u001B[39m\u001B[38;5;124m'\u001B[39m,  max_batches\u001B[38;5;241m=\u001B[39m\u001B[38;5;241m50\u001B[39m)\n",
      "Input \u001B[0;32mIn [14]\u001B[0m, in \u001B[0;36meval_split\u001B[0;34m(trainer, split, max_batches)\u001B[0m\n\u001B[1;32m     12\u001B[0m \u001B[38;5;66;03m# let the model sample the rest of the sequence\u001B[39;00m\n\u001B[1;32m     13\u001B[0m cat \u001B[38;5;241m=\u001B[39m model\u001B[38;5;241m.\u001B[39mgenerate(inp, \u001B[38;5;241m14\u001B[39m \u001B[38;5;241m-\u001B[39m \u001B[38;5;241m4\u001B[39m, do_sample\u001B[38;5;241m=\u001B[39m\u001B[38;5;28;01mFalse\u001B[39;00m) \u001B[38;5;66;03m# using greedy argmax, not sampling\u001B[39;00m\n\u001B[0;32m---> 14\u001B[0m sol_candidate \u001B[38;5;241m=\u001B[39m cat[:, \u001B[43mn\u001B[49m:] \u001B[38;5;66;03m# isolate the filled in sequence\u001B[39;00m\n\u001B[1;32m     15\u001B[0m \u001B[38;5;66;03m# compare the predicted sequence to the true sequence\u001B[39;00m\n\u001B[1;32m     16\u001B[0m correct \u001B[38;5;241m=\u001B[39m (sol \u001B[38;5;241m==\u001B[39m sol_candidate)\u001B[38;5;241m.\u001B[39mall(\u001B[38;5;241m1\u001B[39m)\u001B[38;5;241m.\u001B[39mcpu() \u001B[38;5;66;03m# Software 1.0 vs. Software 2.0 fight RIGHT on this line haha\u001B[39;00m\n",
      "\u001B[0;31mNameError\u001B[0m: name 'n' is not defined"
     ]
    }
   ],
   "source": [
    "def eval_split(trainer, split, max_batches):\n",
    "    dataset = {'train':train_dataset, 'test':test_dataset}[split]\n",
    "    results = []\n",
    "    mistakes_printed_already = 0\n",
    "    loader = DataLoader(dataset, batch_size=100, num_workers=0, drop_last=False)\n",
    "    for b, (x, y) in enumerate(loader):\n",
    "        x = x.to(trainer.device)\n",
    "        y = y.to(trainer.device)\n",
    "        # isolate the input pattern alone\n",
    "        inp = x[:, :4]\n",
    "        sol = y[:, 4:]\n",
    "        # let the model sample the rest of the sequence\n",
    "        cat = model.generate(inp, 14 - 4, do_sample=False) # using greedy argmax, not sampling\n",
    "        sol_candidate = cat[:, n:] # isolate the filled in sequence\n",
    "        # compare the predicted sequence to the true sequence\n",
    "        correct = (sol == sol_candidate).all(1).cpu() # Software 1.0 vs. Software 2.0 fight RIGHT on this line haha\n",
    "        for i in range(x.size(0)):\n",
    "            results.append(int(correct[i]))\n",
    "            if not correct[i] and mistakes_printed_already < 3: # only print up to 5 mistakes to get a sense\n",
    "                mistakes_printed_already += 1\n",
    "                print(\"GPT claims that %s sorted is %s but gt is %s\" % (inp[i].tolist(), sol_candidate[i].tolist(), sol[i].tolist()))\n",
    "        if max_batches is not None and b+1 >= max_batches:\n",
    "            break\n",
    "    rt = torch.tensor(results, dtype=torch.float)\n",
    "    print(\"%s final score: %d/%d = %.2f%% correct\" % (split, rt.sum(), len(results), 100*rt.mean()))\n",
    "    return rt.sum()\n",
    "\n",
    "# run a lot of examples from both train and test through the model and verify the output correctness\n",
    "with torch.no_grad():\n",
    "    train_score = eval_split(trainer, 'train', max_batches=50)\n",
    "    test_score  = eval_split(trainer, 'test',  max_batches=50)"
   ]
  },
  {
   "cell_type": "code",
   "execution_count": null,
   "metadata": {
    "pycharm": {
     "name": "#%%\n"
    }
   },
   "outputs": [],
   "source": [
    "# let's run a random given sequence through the model as well\n",
    "n = train_dataset.length # naugy direct access shrug\n",
    "inp = torch.tensor([[0, 0, 2, 1, 0, 1]], dtype=torch.long).to(trainer.device)\n",
    "assert inp[0].nelement() == n\n",
    "with torch.no_grad():\n",
    "    cat = model.generate(inp, n, do_sample=False)\n",
    "sol = torch.sort(inp[0])[0]\n",
    "sol_candidate = cat[:, n:]\n",
    "print('input sequence  :', inp.tolist())\n",
    "print('predicted sorted:', sol_candidate.tolist())\n",
    "print('gt sort         :', sol.tolist())\n",
    "print('matches         :', bool((sol == sol_candidate).all()))"
   ]
  }
 ],
 "metadata": {
  "kernelspec": {
   "display_name": "Python 3.10.4 64-bit",
   "language": "python",
   "name": "python3"
  },
  "language_info": {
   "codemirror_mode": {
    "name": "ipython",
    "version": 3
   },
   "file_extension": ".py",
   "mimetype": "text/x-python",
   "name": "python",
   "nbconvert_exporter": "python",
   "pygments_lexer": "ipython3",
   "version": "3.10.4"
  },
  "orig_nbformat": 4,
  "vscode": {
   "interpreter": {
    "hash": "3ad933181bd8a04b432d3370b9dc3b0662ad032c4dfaa4e4f1596c548f763858"
   }
  }
 },
 "nbformat": 4,
 "nbformat_minor": 2
}